{
 "cells": [
  {
   "cell_type": "code",
   "execution_count": 1,
   "metadata": {},
   "outputs": [
    {
     "name": "stderr",
     "output_type": "stream",
     "text": [
      "Using TensorFlow backend.\n"
     ]
    }
   ],
   "source": [
    "import gym\n",
    "import tensorflow as tf\n",
    "import matplotlib.pyplot as plt\n",
    "import numpy as np\n",
    "import pandas as pd\n",
    "import random\n",
    "\n",
    "from keras import backend as K\n",
    "from keras.layers import Dense, Activation, Input\n",
    "from keras.models import Model, load_model\n",
    "from keras.optimizers import Adam\n",
    "from IPython.display import clear_output\n",
    "\n",
    "from sklearn.neural_network import MLPRegressor\n",
    "from warnings import filterwarnings\n",
    "filterwarnings('ignore')\n",
    "\n",
    "\n",
    "import seaborn as sns\n",
    "sns.set_context(\"paper\")\n",
    "sns.set_style(\"darkgrid\")"
   ]
  },
  {
   "cell_type": "code",
   "execution_count": 2,
   "metadata": {},
   "outputs": [],
   "source": [
    "import torch as T\n",
    "import torch.nn as nn\n",
    "import torch.nn.functional as F\n",
    "import torch.optim as optim"
   ]
  },
  {
   "cell_type": "code",
   "execution_count": 3,
   "metadata": {},
   "outputs": [],
   "source": [
    "env=gym.make(\"HalfCheetah-v2\")\n",
    "env.reset()\n",
    "state_dim = env.observation_space.shape\n",
    "lower_bound_action,upper_bound_action=env.action_space.low,env.action_space.high\n",
    "n_actions = lower_bound_action.shape[0]"
   ]
  },
  {
   "cell_type": "code",
   "execution_count": 4,
   "metadata": {},
   "outputs": [],
   "source": [
    "class Actor(nn.Module):\n",
    "    def __init__(self,paras):\n",
    "        super(Actor, self).__init__()\n",
    "        self.input_dim=paras['dim_state']\n",
    "        self.output_dim=paras['num_action']\n",
    "        self.alpha_actor=paras['alpha_actor']\n",
    "        self.structure_actor=paras['structure_actor']\n",
    "        \n",
    "        self.structure=[]\n",
    "        for idx,layer in enumerate(self.structure_actor[:-1]):\n",
    "            if idx==0:\n",
    "                self.structure.append(nn.Linear(self.input_dim,layer))\n",
    "                self.structure.append(nn.Linear(layer,self.structure_actor[idx+1]))\n",
    "            else:\n",
    "                self.structure.append(nn.Linear(layer,self.structure_actor[idx+1]))\n",
    "        self.structure.append([nn.Linear(self.structure_actor[-1],self.output_dim),nn.Linear(self.structure_actor[-1],self.output_dim)])\n",
    "        self.myparameters=nn.ModuleList(self.structure[:-1]+[self.structure[-1][0],self.structure[-1][0]])\n",
    "        self.optimizer = optim.Adam(self.parameters(), lr=self.alpha_actor)\n",
    "        \n",
    "    def forward(self, x):\n",
    "        x = T.tensor(x, dtype=T.float)\n",
    "        for idx,layer in enumerate(self.structure[:-1]):\n",
    "            x=F.relu(layer(x))\n",
    "        mu=self.structure[-1][0](x)\n",
    "        sigma=T.exp(self.structure[-1][1](x))\n",
    "        return mu,sigma"
   ]
  },
  {
   "cell_type": "code",
   "execution_count": 5,
   "metadata": {},
   "outputs": [],
   "source": [
    "class A2C(object):\n",
    "    def __init__(self,paras={}):\n",
    "        self.dim_state=paras['dim_state']\n",
    "        self.num_action=paras['num_action']\n",
    "        self.lower_bound_action=paras['lower_bound_action']\n",
    "        self.upper_bound_action=paras['upper_bound_action']\n",
    "        \n",
    "        self.gamma=0.99999\n",
    "        self.actor=Actor(paras)\n",
    "        self.critic=self.Critic(paras)\n",
    "        \n",
    "    def Critic(self,paras):\n",
    "        state = Input(shape=[self.dim_state,])\n",
    "        for idx,layer in enumerate(paras['structure_critic']):\n",
    "            if idx==0:\n",
    "                dense_layers = [Dense(layer, activation='relu')(state)]\n",
    "            else:\n",
    "                dense_layers.append(Dense(layer, activation='relu')(dense_layers[-1]))\n",
    "        value = Dense(1, activation='linear')(dense_layers[-1])\n",
    "        critic = Model(input=[state], output=[value])\n",
    "        critic.compile(optimizer=Adam(lr=paras['alpha_critic']), loss=\"mse\")\n",
    "        return critic\n",
    "    \n",
    "    def get_actions(self,s):\n",
    "        mu,sigma=self.actor.forward(s)\n",
    "        mu=mu.detach().numpy()\n",
    "        sigma=sigma.detach().numpy()\n",
    "        a=np.random.normal(mu,sigma)  \n",
    "        a=np.clip(a,self.lower_bound_action,self.upper_bound_action)\n",
    "        return a \n",
    "    \n",
    "    def update_paras(self,s,a,r,sp,done,gamma):\n",
    "        v_s=self.critic.predict(s)\n",
    "        v_sp=self.critic.predict(sp)\n",
    "        target=r+self.gamma*v_sp*(not done)\n",
    "        delta=target-v_s\n",
    "        self.critic.fit(s,target,verbose=False)\n",
    "        \n",
    "        delta*=gamma\n",
    "        mu,sigma=self.actor.forward(s)\n",
    "        action_probs = T.distributions.Normal(mu, sigma)\n",
    "        a = T.tensor(a, dtype=T.float)\n",
    "        delta = T.tensor(delta, dtype=T.float)\n",
    "        log_probs = action_probs.log_prob(a)        \n",
    "        self.actor_loss = -log_probs*delta\n",
    "        self.actor.optimizer.zero_grad()\n",
    "        self.actor_loss.sum().backward()\n",
    "        self.actor.optimizer.step()"
   ]
  },
  {
   "cell_type": "code",
   "execution_count": 30,
   "metadata": {},
   "outputs": [
    {
     "data": {
      "image/png": "[encoded data removed]",
      "text/plain": [
       "<Figure size 432x288 with 1 Axes>"
      ]
     },
     "metadata": {},
     "output_type": "display_data"
    }
   ],
   "source": [
    "agent_config={}\n",
    "agent_config['dim_state']=state_dim[0]\n",
    "agent_config['num_action']=n_actions\n",
    "agent_config['lower_bound_action']=lower_bound_action\n",
    "agent_config['upper_bound_action']=upper_bound_action\n",
    "agent_config['alpha_actor']=1e-6\n",
    "agent_config['structure_actor']=[256,128]\n",
    "agent_config['alpha_critic']=1e-3\n",
    "agent_config['structure_critic']=[256,128]\n",
    "agent=A2C(agent_config)\n",
    "\n",
    "Iter=5000\n",
    "G_log=[]\n",
    "for epoch in range(Iter):\n",
    "    done=False\n",
    "    s=env.reset()\n",
    "    G=0\n",
    "    gamma=1\n",
    "    while not done:\n",
    "        a = agent.get_actions(s.reshape(1,-1))\n",
    "        sp, r, done, info = env.step(a[0])\n",
    "        agent.update_paras(s.reshape(1,-1),a,r,sp.reshape(1,-1),done,gamma)\n",
    "        gamma*=agent.gamma\n",
    "        s = sp\n",
    "        G+=r\n",
    "    G_log.append(G)\n",
    "    if len(G_log)%50==0:\n",
    "        print(len(G_log),np.mean(G_log[-50:]))\n",
    "        plt.plot(G_log)\n",
    "        plt.plot(pd.DataFrame(G_log).rolling(50).mean())\n",
    "        plt.show() \n",
    "        \n",
    "        \n",
    "plt.plot(G_log)\n",
    "plt.plot(pd.DataFrame(G_log).rolling(50).mean())\n",
    "plt.show()            "
   ]
  },
  {
   "cell_type": "code",
   "execution_count": 29,
   "metadata": {},
   "outputs": [
    {
     "name": "stdout",
     "output_type": "stream",
     "text": [
      "Creating window glfw\n"
     ]
    },
    {
     "data": {
      "text/plain": [
       "657.2588871989959"
      ]
     },
     "execution_count": 29,
     "metadata": {},
     "output_type": "execute_result"
    }
   ],
   "source": [
    "s=env.reset()\n",
    "env.render()\n",
    "done=False\n",
    "G=0\n",
    "while not done:\n",
    "    a = agent.get_actions(s.reshape(1,-1))\n",
    "    s, r, done, info = env.step(a[0])\n",
    "    env.render() \n",
    "    G+=r\n",
    "env.close()    \n",
    "G"
   ]
  },
  {
   "cell_type": "code",
   "execution_count": 31,
   "metadata": {},
   "outputs": [],
   "source": [
    "T.save(agent.actor.state_dict(), \"HalfCheetah_actor\")\n",
    "# agent.actor.load_state_dict(torch.load(\"CartP_actor\"))\n",
    "# agent.actor.eval()"
   ]
  },
  {
   "cell_type": "code",
   "execution_count": 34,
   "metadata": {},
   "outputs": [],
   "source": [
    "agent.critic.save(\"HalfCheetah_critic.h5\")"
   ]
  },
  {
   "cell_type": "code",
   "execution_count": null,
   "metadata": {},
   "outputs": [],
   "source": [
    "# # load model\n",
    "# model = load_model('model.h5')\n",
    "# # summarize model.\n",
    "# model.summary()"
   ]
  }
 ],
 "metadata": {
  "kernelspec": {
   "display_name": "Python 3",
   "language": "python",
   "name": "python3"
  },
  "language_info": {
   "codemirror_mode": {
    "name": "ipython",
    "version": 3
   },
   "file_extension": ".py",
   "mimetype": "text/x-python",
   "name": "python",
   "nbconvert_exporter": "python",
   "pygments_lexer": "ipython3",
   "version": "3.7.5"
  }
 },
 "nbformat": 4,
 "nbformat_minor": 2
}
